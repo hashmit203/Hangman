{
 "cells": [
  {
   "cell_type": "code",
   "execution_count": null,
   "id": "69f699f9-a184-4b43-b9e8-2f5559a2f284",
   "metadata": {},
   "outputs": [
    {
     "name": "stdout",
     "output_type": "stream",
     "text": [
      "\n",
      "     + - - - +\n",
      "     |       |\n",
      "             |\n",
      "             |\n",
      "             |\n",
      "             |\n",
      "  = = = = = = = = = \n"
     ]
    },
    {
     "name": "stdin",
     "output_type": "stream",
     "text": [
      "Welcome to hangman. \n",
      " ________\n",
      "Make a guess? a\n"
     ]
    },
    {
     "name": "stdout",
     "output_type": "stream",
     "text": [
      "\n",
      "     + - - - +\n",
      "     |       |\n",
      "             |\n",
      "             |\n",
      "             |\n",
      "             |\n",
      "  = = = = = = = = = \n",
      "  _ _ _ _ a _ _ _\n"
     ]
    },
    {
     "name": "stdin",
     "output_type": "stream",
     "text": [
      "Make another guess? f\n"
     ]
    },
    {
     "name": "stdout",
     "output_type": "stream",
     "text": [
      "\n",
      "     + - - - +\n",
      "     |       |\n",
      "             |\n",
      "             |\n",
      "             |\n",
      "             |\n",
      "  = = = = = = = = = \n",
      "f _ _ _ _ a _ _ _\n"
     ]
    },
    {
     "name": "stdin",
     "output_type": "stream",
     "text": [
      "Make another guess? o\n"
     ]
    },
    {
     "name": "stdout",
     "output_type": "stream",
     "text": [
      "\n",
      "     + - - - +\n",
      "     |       |\n",
      "             |\n",
      "             |\n",
      "             |\n",
      "             |\n",
      "  = = = = = = = = = \n",
      "f o o _ _ a _ _ _\n"
     ]
    },
    {
     "name": "stdin",
     "output_type": "stream",
     "text": [
      "Make another guess? t\n"
     ]
    },
    {
     "name": "stdout",
     "output_type": "stream",
     "text": [
      "\n",
      "     + - - - +\n",
      "     |       |\n",
      "             |\n",
      "             |\n",
      "             |\n",
      "             |\n",
      "  = = = = = = = = = \n",
      "f o o t _ a _ _ _\n"
     ]
    },
    {
     "name": "stdin",
     "output_type": "stream",
     "text": [
      "Make another guess? b\n"
     ]
    },
    {
     "name": "stdout",
     "output_type": "stream",
     "text": [
      "\n",
      "     + - - - +\n",
      "     |       |\n",
      "             |\n",
      "             |\n",
      "             |\n",
      "             |\n",
      "  = = = = = = = = = \n",
      "f o o t b a _ _ _\n"
     ]
    },
    {
     "name": "stdin",
     "output_type": "stream",
     "text": [
      "Make another guess? l\n"
     ]
    },
    {
     "name": "stdout",
     "output_type": "stream",
     "text": [
      "\n",
      "     + - - - +\n",
      "     |       |\n",
      "             |\n",
      "             |\n",
      "             |\n",
      "             |\n",
      "  = = = = = = = = = \n",
      "f o o t b a l l _\n"
     ]
    },
    {
     "name": "stdin",
     "output_type": "stream",
     "text": [
      "Make another guess? s\n"
     ]
    },
    {
     "name": "stdout",
     "output_type": "stream",
     "text": [
      "There is no s, sorry.\n",
      "\n",
      "     + - - - +\n",
      "     |       |\n",
      "     O       |\n",
      "             |\n",
      "             |\n",
      "             |\n",
      "  = = = = = = = = = \n",
      "f o o t b a l l _\n"
     ]
    }
   ],
   "source": [
    "import random\n",
    "\n",
    "def making_a_guess():\n",
    "    x=0\n",
    "    global update_display\n",
    "    correct_guess=False\n",
    "    for letter in chosen_word:\n",
    "       if guess.lower() == chosen_word[x]:\n",
    "            blank_list[x] = guess.lower()\n",
    "            correct_guess = True\n",
    "       x+=1\n",
    "    if correct_guess == False:\n",
    "         print(f\"There is no {guess}, sorry.\")\n",
    "         update_display += 1\n",
    "    x = 0\n",
    "\n",
    "\n",
    "HANGMANPICS =['''\n",
    "     + - - - +\n",
    "     |       |\n",
    "             |\n",
    "             |\n",
    "             |\n",
    "             |\n",
    "  = = = = = = = = = ''' , '''\n",
    "     + - - - +\n",
    "     |       |\n",
    "     O       |\n",
    "             |\n",
    "             |\n",
    "             |\n",
    "  = = = = = = = = = ''' , '''\n",
    "     + - - - +\n",
    "     |       |\n",
    "     O       |\n",
    "    /|       |\n",
    "             |\n",
    "             |\n",
    "  = = = = = = = = = ''' , '''\n",
    "     + - - - +\n",
    "     |       |\n",
    "     O       |\n",
    "    /|\\      |\n",
    "             |\n",
    "             |\n",
    "  = = = = = = = = = ''' , '''\n",
    "     + - - - +\n",
    "     |       |\n",
    "     O       |\n",
    "    /|\\      |\n",
    "    /        |\n",
    "  = = = = = = = = = ''' , '''\n",
    "     + - - - +\n",
    "     |       |\n",
    "     O       |\n",
    "    /|\\      |\n",
    "    / \\      |\n",
    "             |\n",
    "  = = = = = = = = = ''' ]\n",
    "\n",
    "word_list = [ \"baboon\" , \"camel\" , \"jazz\" , \"grass\" , \"cricket\", \"football\", \"horse\" , \"mango\" , \n",
    "               \"castle\" , \"dog\" , \"cat\" , \"horse\" , \"lion\" ]\n",
    "\n",
    "chosen_word = list(random.choice(word_list))\n",
    "\n",
    "blank = \" \"\n",
    "for letter in chosen_word:\n",
    "    blank += \"_\"\n",
    "blank_list=list(blank)\n",
    "\n",
    "update_display = 0\n",
    "\n",
    " #----------------------------------------------------------------------------------------------------\n",
    "\n",
    "print(HANGMANPICS[update_display])\n",
    "guess =  input(f\"Welcome to hangman. \\n{blank}\\nMake a guess?\")\n",
    "making_a_guess()\n",
    "print(HANGMANPICS[update_display])\n",
    "print(' ' .join(blank_list))\n",
    "while update_display <6:\n",
    "    if blank_list == chosen_word:\n",
    "     print(\"YOU WIN!\")\n",
    "     break\n",
    "    guess = input(\"Make another guess?\")\n",
    "    making_a_guess()\n",
    "    print(HANGMANPICS[update_display])\n",
    "    print(' ' .join(blank_list))\n",
    "if update_display ==6:\n",
    "    print(\"GAME OVER.\")\n",
    "    print(f\"The word was {''.join(chosen_word)}\")            \n",
    "\n",
    "\n",
    "\n",
    "\n",
    "\n",
    "\n",
    "\n",
    "\n",
    "\n",
    "\n",
    "\n",
    "                \n"
   ]
  },
  {
   "cell_type": "code",
   "execution_count": null,
   "id": "edfae3e8-41ca-48f6-aaab-d2fd942d8699",
   "metadata": {},
   "outputs": [],
   "source": []
  }
 ],
 "metadata": {
  "kernelspec": {
   "display_name": "Python [conda env:base] *",
   "language": "python",
   "name": "conda-base-py"
  },
  "language_info": {
   "codemirror_mode": {
    "name": "ipython",
    "version": 3
   },
   "file_extension": ".py",
   "mimetype": "text/x-python",
   "name": "python",
   "nbconvert_exporter": "python",
   "pygments_lexer": "ipython3",
   "version": "3.13.5"
  }
 },
 "nbformat": 4,
 "nbformat_minor": 5
}
